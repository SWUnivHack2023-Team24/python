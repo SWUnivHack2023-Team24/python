{
 "cells": [
  {
   "cell_type": "code",
   "execution_count": null,
   "metadata": {},
   "outputs": [],
   "source": [
    "from pymongo import MongoClient\n",
    "import requests\n",
    "from bs4 import BeautifulSoup\n",
    "import pandas as pd\n",
    "from datetime import datetime\n",
    "from datetime import timedelta \n",
    "\n",
    "# 크롤링 참고(https://operstu1.tistory.com/87)"
   ]
  },
  {
   "cell_type": "code",
   "execution_count": null,
   "metadata": {},
   "outputs": [],
   "source": [
    "# 지역별 관측소 이름 데이터\n",
    "sido_data = {\n",
    "  \"서울특별시\": \"종로구\",\n",
    "  \"경기도\": \"가평\",\n",
    "  \"인천광역시\": \"신흥\",  \n",
    "  \"강원도\": \"문막읍\",\n",
    "  \"충청남도\": \"배방읍\",\n",
    "  \"대전광역시\": \"대성동\",\n",
    "  \"충청북도\": \"가덕면\",\n",
    "  \"부산광역시\": \"광복동\",  \n",
    "  \"울산광역시\": \"성남동\",\n",
    "  \"대구광역시\": \"남산1동\",\n",
    "  \"경상북도\": \"대도동\",\n",
    "  \"경상남도\": \"경화동\",\n",
    "  \"전라남도\": \"여천동(여수)\",\n",
    "  \"광주광역시\": \"서석동\",\n",
    "  \"전라북도\": \"노송동\",\n",
    "  \"제주특별자치도\": \"연동\",\n",
    "  \"세종특별자치시\": \"신흥동\"\n",
    "    }\n",
    "\n",
    "# 지역 이름 추출\n",
    "sido_keys= list(sido_data.keys())"
   ]
  },
  {
   "cell_type": "code",
   "execution_count": null,
   "metadata": {},
   "outputs": [],
   "source": [
    "def parse() :\n",
    "    try:\n",
    "        # 24:00 오류 방지\n",
    "        date = item.find('datatime').get_text()\n",
    "        if '24:00' in date :\n",
    "            date = date.replace('24:00', '00:00')\n",
    "            date = datetime.strptime(date, '%Y-%m-%d %H:%M')\n",
    "            datatime = date + timedelta(days=1)\n",
    "        else:\n",
    "            datatime = datetime.strptime(date, '%Y-%m-%d %H:%M')\n",
    "        region: s\n",
    "\n",
    "        o3value = item.find('o3value').get_text()\n",
    "        no2value = item.find('no2value').get_text()\n",
    "        covalue = item.find('covalue').get_text()\n",
    "        pm10value = item.find('pm10value').get_text()\n",
    "\n",
    "        return {\n",
    "            'datatime':datatime,\n",
    "            'region': s,\n",
    "\n",
    "            'o3value':o3value,\n",
    "            'no2value':no2value,\n",
    "            'covalue':covalue,\n",
    "            'pm10value':pm10value\n",
    "        }\n",
    "    except AttributeError as e:\n",
    "        return {\n",
    "            'datatime':None,\n",
    "            'region': s,\n",
    "\n",
    "            'o3value':None,\n",
    "            'no2value':None,\n",
    "            'covalue':None,\n",
    "            'pm10value':None\n",
    "        }"
   ]
  },
  {
   "cell_type": "code",
   "execution_count": null,
   "metadata": {},
   "outputs": [],
   "source": [
    "# MongoDB 연결용\n",
    "db = mongo.dustDrive_prod"
   ]
  },
  {
   "attachments": {},
   "cell_type": "markdown",
   "metadata": {},
   "source": [
    "# 실시간 측정 정보_DAILY"
   ]
  },
  {
   "cell_type": "code",
   "execution_count": null,
   "metadata": {},
   "outputs": [],
   "source": [
    "# https://www.data.go.kr/data/15073861/openapi.do\n",
    "# 측정소별 실시간 측정 정보\n",
    "\n",
    "url = 'http://apis.data.go.kr/B552584/ArpltnInforInqireSvc/getMsrstnAcctoRltmMesureDnsty?'\n",
    "\n",
    "\n",
    "returnType = '&returnType=xml'\n",
    "numOfRows = '&numOfRows=100'\n",
    "pageNo = '&pageNo=1'\n",
    "dataTerm = '&dataTerm=DAILY'"
   ]
  },
  {
   "cell_type": "code",
   "execution_count": null,
   "metadata": {},
   "outputs": [],
   "source": [
    "for s in sido_keys:\n",
    "    row = []\n",
    "    stationName = '&stationName='+ sido_data[s]\n",
    "\n",
    "    # print(url+api_key+returnType+numOfRows+pageNo+stationName+dataTerm)\n",
    "    result = requests.get(url+api_key+returnType+numOfRows+pageNo+stationName+dataTerm)\n",
    "    \n",
    "    bs = BeautifulSoup(result.text, 'lxml')\n",
    "    items = bs.find_all('item')\n",
    "\n",
    "    for item in items:\n",
    "        row.append(parse())\n",
    "\n",
    "    # DB 업로드\n",
    "    result = db.dust_info.insert_many(row)"
   ]
  },
  {
   "attachments": {},
   "cell_type": "markdown",
   "metadata": {},
   "source": [
    "# 실시간 측정 정보_3MONTH"
   ]
  },
  {
   "cell_type": "code",
   "execution_count": null,
   "metadata": {},
   "outputs": [],
   "source": [
    "url = 'http://apis.data.go.kr/B552584/ArpltnInforInqireSvc/getMsrstnAcctoRltmMesureDnsty?'\n",
    "\n",
    "returnType = '&returnType=xml'\n",
    "numOfRows = '&numOfRows=3000'\n",
    "pageNo = '&pageNo=1'\n",
    "dataTerm = '&dataTerm=3MONTH'"
   ]
  },
  {
   "cell_type": "code",
   "execution_count": null,
   "metadata": {},
   "outputs": [],
   "source": [
    "for s in sido_keys:\n",
    "    row = []\n",
    "    stationName = '&stationName='+ sido_data[s]\n",
    "\n",
    "    result = requests.get(url+api_key+returnType+numOfRows+pageNo+stationName+dataTerm)\n",
    "    \n",
    "\n",
    "    bs = BeautifulSoup(result.text, 'lxml')\n",
    "    items = bs.find_all('item')\n",
    "\n",
    "    for item in items:\n",
    "        row.append(parse())\n",
    "\n",
    "    db.dust_info_api.insert_many(row)\n",
    "    print(s)\n",
    "    "
   ]
  },
  {
   "cell_type": "code",
   "execution_count": null,
   "metadata": {},
   "outputs": [],
   "source": [
    "row"
   ]
  },
  {
   "attachments": {},
   "cell_type": "markdown",
   "metadata": {},
   "source": [
    "# 대기오염 데이터_2022"
   ]
  },
  {
   "cell_type": "code",
   "execution_count": null,
   "metadata": {},
   "outputs": [],
   "source": [
    "# 2022년 충청남도 배방읍 관측소 대기오염 데이터 파일\n",
    "\n",
    "for i in range(12):\n",
    "    globals()['df{}'.format(i)] = pd.read_csv(f'./csv_data/data_past_day ({i}).csv', encoding='cp949')"
   ]
  },
  {
   "cell_type": "code",
   "execution_count": null,
   "metadata": {},
   "outputs": [],
   "source": [
    "# 필요없는 행 삭제\n",
    "\n",
    "df0 = df0.drop(index=[0, len(df0)-1], axis = 0)\n",
    "df1 = df1.drop(index=[0, len(df1)-1], axis = 0)\n",
    "df2 = df2.drop(index=[0, len(df2)-1], axis = 0)\n",
    "df3 = df3.drop(index=[0, len(df3)-1], axis = 0)\n",
    "df4 = df4.drop(index=[0, len(df4)-1], axis = 0)\n",
    "df5 = df5.drop(index=[0, len(df5)-1], axis = 0)\n",
    "df6 = df6.drop(index=[0, len(df6)-1], axis = 0)\n",
    "df7 = df7.drop(index=[0, len(df7)-1], axis = 0)\n",
    "df8 = df8.drop(index=[0, len(df8)-1], axis = 0)\n",
    "df9 = df9.drop(index=[0, len(df9)-1], axis = 0)\n",
    "df10 = df10.drop(index=[0, len(df10)-1], axis = 0)\n",
    "df11 = df11.drop(index=[0, len(df11)-1], axis = 0)"
   ]
  },
  {
   "cell_type": "code",
   "execution_count": null,
   "metadata": {},
   "outputs": [],
   "source": [
    "df_list = [df0,df1,df2,df3,df4,df5,df6,df7,df8,df9,df10,df11]\n",
    "\n",
    "df2022 = pd.concat(df_list, ignore_index=True)"
   ]
  },
  {
   "cell_type": "code",
   "execution_count": null,
   "metadata": {},
   "outputs": [],
   "source": [
    "# 데이터 컬럼명 변경\n",
    "df2022.columns = ['datatime', 'pm10value', 'pm25value', 'o3value', 'no2value', 'covalue', 'so2value']"
   ]
  },
  {
   "cell_type": "code",
   "execution_count": null,
   "metadata": {},
   "outputs": [],
   "source": [
    "# 지역 컬럼 추가\n",
    "region = pd.DataFrame(['충청남도']*len(df2022))\n",
    "df2022.insert(1, 'region', region)\n",
    "\n",
    "# 날짜 형식 datetime으로 변경\n",
    "df2022['datatime'] = pd.to_datetime(df2022['datatime'])\n",
    "\n",
    "# 필요없는 컬럼 삭제\n",
    "df2022.drop(['pm25value', 'so2value'], axis=1, inplace=True)\n",
    "\n",
    "# 딕셔너리 형 변환\n",
    "df2022_dict = df2022.to_dict('records')"
   ]
  },
  {
   "cell_type": "code",
   "execution_count": null,
   "metadata": {},
   "outputs": [],
   "source": [
    "# DB 업로드\n",
    "db.dust_info_csv.insert_many(df2022_dict)"
   ]
  }
 ],
 "metadata": {
  "kernelspec": {
   "display_name": "Python 3",
   "language": "python",
   "name": "python3"
  },
  "language_info": {
   "codemirror_mode": {
    "name": "ipython",
    "version": 3
   },
   "file_extension": ".py",
   "mimetype": "text/x-python",
   "name": "python",
   "nbconvert_exporter": "python",
   "pygments_lexer": "ipython3",
   "version": "3.11.4"
  },
  "orig_nbformat": 4
 },
 "nbformat": 4,
 "nbformat_minor": 2
}
